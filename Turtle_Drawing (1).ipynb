{
 "cells": [
  {
   "cell_type": "markdown",
   "id": "685cf06d-b786-4143-87fe-a70cc03391b9",
   "metadata": {},
   "source": [
    "The turtle was intented to draw a number of polygons on a screen. The first text block is the definition for creating a polygon from a number of colors listed when the function franklin.colorgon was input. The next block creates the octogon, then the next block moves the turtle up and to the right before drawing a triangle. The next block moves the turtle down and to the left before drawing a square. The final block then moves the turtle down and to the left at an angle before drawing a pentagon. \n",
    "\n",
    "The first and second blocks were reused from the turtlegon module made by Dr. Nathan Malmberg "
   ]
  },
  {
   "cell_type": "code",
   "execution_count": 1,
   "id": "afaea08c-deb7-41de-beee-aaf9b32584bc",
   "metadata": {},
   "outputs": [
    {
     "name": "stderr",
     "output_type": "stream",
     "text": [
      "2025-02-26 10:28:29.764 python[5783:187931] +[IMKClient subclass]: chose IMKClient_Modern\n",
      "2025-02-26 10:28:29.764 python[5783:187931] +[IMKInputSession subclass]: chose IMKInputSession_Modern\n"
     ]
    }
   ],
   "source": [
    "import turtle\n",
    "from time import sleep\n",
    "\n",
    "class TurtleGon(turtle.Turtle):\n",
    "    def colorgon(self, colorlist, side=50, fillcolor=None):\n",
    "        angle = 180 - 180 * (len(colorlist) - 2) / len(colorlist)\n",
    "        if fillcolor is not None:\n",
    "            self.fillcolor(fillcolor)\n",
    "            self.begin_fill()\n",
    "        for color in colorlist:\n",
    "            self.pencolor(color)\n",
    "            self.forward(side)\n",
    "            self.left(angle)\n",
    "        if fillcolor is not None:\n",
    "            self.end_fill()\n",
    "        return\n",
    "\n",
    "        \n",
    "franklin = TurtleGon()\n",
    "sleep(5)\n",
    "franklin.colorgon([\"purple\",\"red\",\"red\",\"cyan\",\"green\",\"black\",\"silver\",\"pink\"], fillcolor=\"green\")\n",
    "sleep(1)\n",
    "\n",
    "\n",
    "franklin.home ()\n",
    "franklin.penup ()\n",
    "franklin.left (90)\n",
    "franklin.forward (200)\n",
    "franklin.right(90)\n",
    "franklin.forward (50)\n",
    "franklin.pendown () \n",
    "franklin.colorgon([\"red\",\"red\",\"red\"], fillcolor=\"blue\")\n",
    "\n",
    "franklin.penup ()\n",
    "franklin.right (90)\n",
    "franklin.forward (100)\n",
    "franklin.right (90)\n",
    "franklin.forward (150)\n",
    "franklin.pendown ()\n",
    "franklin.colorgon([\"silver\",\"silver\",\"silver\",\"silver\"], fillcolor=\"cyan\") \n",
    "\n",
    "franklin.penup ()\n",
    "franklin.left (45)\n",
    "franklin.forward (170)\n",
    "franklin.pendown ()\n",
    "franklin.colorgon([\"green\",\"blue\",\"yellow\",\"red\",\"silver\"], fillcolor=\"purple\")"
   ]
  }
 ],
 "metadata": {
  "kernelspec": {
   "display_name": "Python 3 (ipykernel)",
   "language": "python",
   "name": "python3"
  },
  "language_info": {
   "codemirror_mode": {
    "name": "ipython",
    "version": 3
   },
   "file_extension": ".py",
   "mimetype": "text/x-python",
   "name": "python",
   "nbconvert_exporter": "python",
   "pygments_lexer": "ipython3",
   "version": "3.12.8"
  }
 },
 "nbformat": 4,
 "nbformat_minor": 5
}



# hi
